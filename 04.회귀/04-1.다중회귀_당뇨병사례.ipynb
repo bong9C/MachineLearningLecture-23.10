{
 "cells": [
  {
   "cell_type": "markdown",
   "metadata": {},
   "source": [
    "## 다중 회귀 - 당뇨병 사례"
   ]
  },
  {
   "cell_type": "code",
   "execution_count": 8,
   "metadata": {},
   "outputs": [],
   "source": [
    "import pandas as pd\n",
    "from sklearn.datasets import load_diabetes\n",
    "diab = load_diabetes()"
   ]
  },
  {
   "cell_type": "code",
   "execution_count": 9,
   "metadata": {},
   "outputs": [],
   "source": [
    "from sklearn.model_selection import train_test_split\n",
    "from sklearn.metrics import r2_score, mean_squared_error\n",
    "from sklearn.linear_model import LinearRegression\n",
    "from sklearn.svm import SVR\n",
    "from lightgbm import LGBMRegressor\n",
    "from sklearn.linear_model import Lasso,Ridge"
   ]
  },
  {
   "cell_type": "markdown",
   "metadata": {},
   "source": [
    "- data 분리"
   ]
  },
  {
   "cell_type": "code",
   "execution_count": 10,
   "metadata": {},
   "outputs": [],
   "source": [
    "X_train,X_test, y_train,y_test=train_test_split(\n",
    "    diab.data, diab.target, test_size=0.2, random_state=2023\n",
    ")"
   ]
  },
  {
   "cell_type": "markdown",
   "metadata": {},
   "source": [
    "- Linnear Regeression"
   ]
  },
  {
   "cell_type": "code",
   "execution_count": 11,
   "metadata": {},
   "outputs": [],
   "source": [
    "lr = LinearRegression()\n",
    "lr.fit(X_train, y_train)\n",
    "y_hat_lr = lr.predict(X_test)\n",
    "r2_lr = r2_score(y_test, y_hat_lr)\n",
    "mse_lr = mean_squared_error(y_test, y_hat_lr)\n"
   ]
  },
  {
   "cell_type": "markdown",
   "metadata": {},
   "source": [
    "- Support Vector Regressor"
   ]
  },
  {
   "cell_type": "code",
   "execution_count": 12,
   "metadata": {},
   "outputs": [
    {
     "ename": "NameError",
     "evalue": "name 'y_hat_rfr' is not defined",
     "output_type": "error",
     "traceback": [
      "\u001b[1;31m---------------------------------------------------------------------------\u001b[0m",
      "\u001b[1;31mNameError\u001b[0m                                 Traceback (most recent call last)",
      "\u001b[1;32md:\\WorkSpace\\03.MachineLearning\\03.회귀\\04-1.다중회귀_당뇨병사례.ipynb 셀 9\u001b[0m line \u001b[0;36m4\n\u001b[0;32m      <a href='vscode-notebook-cell:/d%3A/WorkSpace/03.MachineLearning/03.%ED%9A%8C%EA%B7%80/04-1.%EB%8B%A4%EC%A4%91%ED%9A%8C%EA%B7%80_%EB%8B%B9%EB%87%A8%EB%B3%91%EC%82%AC%EB%A1%80.ipynb#W3sZmlsZQ%3D%3D?line=1'>2</a>\u001b[0m svr\u001b[39m.\u001b[39mfit(X_train, y_train)\n\u001b[0;32m      <a href='vscode-notebook-cell:/d%3A/WorkSpace/03.MachineLearning/03.%ED%9A%8C%EA%B7%80/04-1.%EB%8B%A4%EC%A4%91%ED%9A%8C%EA%B7%80_%EB%8B%B9%EB%87%A8%EB%B3%91%EC%82%AC%EB%A1%80.ipynb#W3sZmlsZQ%3D%3D?line=2'>3</a>\u001b[0m y_hat_svr \u001b[39m=\u001b[39m svr\u001b[39m.\u001b[39mpredict(X_test)\n\u001b[1;32m----> <a href='vscode-notebook-cell:/d%3A/WorkSpace/03.MachineLearning/03.%ED%9A%8C%EA%B7%80/04-1.%EB%8B%A4%EC%A4%91%ED%9A%8C%EA%B7%80_%EB%8B%B9%EB%87%A8%EB%B3%91%EC%82%AC%EB%A1%80.ipynb#W3sZmlsZQ%3D%3D?line=3'>4</a>\u001b[0m r2_rfr \u001b[39m=\u001b[39m r2_score(y_test, y_hat_rfr)\n\u001b[0;32m      <a href='vscode-notebook-cell:/d%3A/WorkSpace/03.MachineLearning/03.%ED%9A%8C%EA%B7%80/04-1.%EB%8B%A4%EC%A4%91%ED%9A%8C%EA%B7%80_%EB%8B%B9%EB%87%A8%EB%B3%91%EC%82%AC%EB%A1%80.ipynb#W3sZmlsZQ%3D%3D?line=4'>5</a>\u001b[0m mse_rfr \u001b[39m=\u001b[39m mean_squared_error(y_test, y_hat_rfr)\n",
      "\u001b[1;31mNameError\u001b[0m: name 'y_hat_rfr' is not defined"
     ]
    }
   ],
   "source": [
    "svr = SVR()\n",
    "svr.fit(X_train, y_train)\n",
    "y_hat_svr = svr.predict(X_test)\n",
    "r2_rfr = r2_score(y_test, y_hat_rfr)\n",
    "mse_rfr = mean_squared_error(y_test, y_hat_rfr)"
   ]
  },
  {
   "cell_type": "markdown",
   "metadata": {},
   "source": [
    "- 모델 비교"
   ]
  },
  {
   "cell_type": "code",
   "execution_count": null,
   "metadata": {},
   "outputs": [],
   "source": [
    "pf = pd.DATaFrame({\n",
    "    'LR':[r2_lr,mse_lr], 'SVR':[r2_svr,mse_svr], 'RFR'[r2_rfr,mse_rfr], 'LGBR':[s2_lagbr,mse_labr]\n",
    "})"
   ]
  },
  {
   "cell_type": "code",
   "execution_count": null,
   "metadata": {},
   "outputs": [],
   "source": [
    "rf =  pd.DataFrame({\n",
    "    'y':y_test, 'LR':y_hat_lr, 'SVR':y_hat_svr, 'RFR':y_hat_rfr, 'LGBR':y_hat_lgbr\n",
    "})"
   ]
  },
  {
   "cell_type": "markdown",
   "metadata": {},
   "source": [
    "#### 규제 성형 회위\n",
    "- lasso : L1 규제"
   ]
  },
  {
   "cell_type": "code",
   "execution_count": 13,
   "metadata": {},
   "outputs": [
    {
     "ename": "TypeError",
     "evalue": "Lasso.__init__() got an unexpected keyword argument 'random_dtate'",
     "output_type": "error",
     "traceback": [
      "\u001b[1;31m---------------------------------------------------------------------------\u001b[0m",
      "\u001b[1;31mTypeError\u001b[0m                                 Traceback (most recent call last)",
      "\u001b[1;32md:\\WorkSpace\\03.MachineLearning\\03.회귀\\04-1.다중회귀_당뇨병사례.ipynb 셀 14\u001b[0m line \u001b[0;36m1\n\u001b[1;32m----> <a href='vscode-notebook-cell:/d%3A/WorkSpace/03.MachineLearning/03.%ED%9A%8C%EA%B7%80/04-1.%EB%8B%A4%EC%A4%91%ED%9A%8C%EA%B7%80_%EB%8B%B9%EB%87%A8%EB%B3%91%EC%82%AC%EB%A1%80.ipynb#X21sZmlsZQ%3D%3D?line=0'>1</a>\u001b[0m lasso \u001b[39m=\u001b[39m Lasso(random_dtate\u001b[39m=\u001b[39m\u001b[39m2023\u001b[39m)\n\u001b[0;32m      <a href='vscode-notebook-cell:/d%3A/WorkSpace/03.MachineLearning/03.%ED%9A%8C%EA%B7%80/04-1.%EB%8B%A4%EC%A4%91%ED%9A%8C%EA%B7%80_%EB%8B%B9%EB%87%A8%EB%B3%91%EC%82%AC%EB%A1%80.ipynb#X21sZmlsZQ%3D%3D?line=1'>2</a>\u001b[0m lasso\u001b[39m.\u001b[39mget_params()\n",
      "\u001b[1;31mTypeError\u001b[0m: Lasso.__init__() got an unexpected keyword argument 'random_dtate'"
     ]
    }
   ],
   "source": [
    "lasso = Lasso(random_dtate=2023)\n",
    "lasso.get_params()\n"
   ]
  },
  {
   "cell_type": "code",
   "execution_count": null,
   "metadata": {},
   "outputs": [],
   "source": []
  }
 ],
 "metadata": {
  "kernelspec": {
   "display_name": "base",
   "language": "python",
   "name": "python3"
  },
  "language_info": {
   "codemirror_mode": {
    "name": "ipython",
    "version": 3
   },
   "file_extension": ".py",
   "mimetype": "text/x-python",
   "name": "python",
   "nbconvert_exporter": "python",
   "pygments_lexer": "ipython3",
   "version": "3.11.4"
  }
 },
 "nbformat": 4,
 "nbformat_minor": 2
}
